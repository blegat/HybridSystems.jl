{
 "cells": [
  {
   "cell_type": "markdown",
   "metadata": {},
   "source": [
    "We consider example 1.1 of [H00].\n",
    "There are two modes:\n",
    "* Off: the heater is off, the temperature falls according to the flow condition $\\dot{x} = -0.1x$.\n",
    "* On: the heater is on, the temperature rises according to the flow condition $\\dot{x} = 5 - 0.1x$.\n",
    "\n",
    "The heater may turn on as soon as $x < 19$ and cannot only be off while $x \\ge 18$.\n",
    "Similarly, the heater may turn off as soon as $x > 21$ and can only be on while $x \\le 22$.\n",
    "\n",
    "[H00] Henzinger, T. A.\n",
    "*The theory of hybrid automata*.\n",
    "In Verification of Digital and Hybrid Systems, **2000**, pp. 265-292. Springer, Berlin, Heidelberg."
   ]
  },
  {
   "cell_type": "markdown",
   "metadata": {},
   "source": [
    "In [Polyhedra](https://github.com/JuliaPolyhedra/Polyhedra.jl), polyhedra are represented as the intersection of halfspaces. Each halfspace is represented by the vector $a$ and the scalar $\\beta$ of the inequality $a^\\top x \\le \\beta$.\n",
    "The inequality $x \\ge 18$ is hence rewritten $-x \\le -18$.\n",
    "Even if there is only one halfspace, `intersect` need to be called to transform the hyperplane into a H-representation of a polyhedron."
   ]
  },
  {
   "cell_type": "code",
   "execution_count": 1,
   "metadata": {
    "collapsed": true
   },
   "outputs": [],
   "source": [
    "using Polyhedra\n",
    "domain_off      = intersect(HyperPlane([-1.0], -18))  # -x ≤ -18 ≡ x ≥ 18\n",
    "domain_on       = intersect(HyperPlane([ 1.0],  22))  #  x ≤  22\n",
    "guard_off_to_on = intersect(HyperPlane([-1.0], -19))  # -x ≤ -19 ≡ x ≥ 19\n",
    "guard_on_to_off = intersect(HyperPlane([ 1.0],  21)); #  x ≤  21"
   ]
  },
  {
   "cell_type": "markdown",
   "metadata": {},
   "source": [
    "Some polyhedral operation require the H-representation to be turned into a polyhedron linked with a library that will be used to apply the operation and compute the resulting polyhedron.\n",
    "Depending on the application, the H-representation constructed in the above cell may need to be transformed to polyhedron.\n",
    "To create a polyhedron, one first need to select a library, execute one of the following three cells to select one (see [here](https://juliapolyhedra.github.io/) for a list of all available libraries):"
   ]
  },
  {
   "cell_type": "code",
   "execution_count": 2,
   "metadata": {},
   "outputs": [
    {
     "data": {
      "text/plain": [
       "IntervalLibrary{Float64}()"
      ]
     },
     "execution_count": 2,
     "metadata": {},
     "output_type": "execute_result"
    }
   ],
   "source": [
    "lib = Polyhedra.IntervalLibrary{Float64}() # Library optimized for 1-dimension polyhedron, i.e. intervals"
   ]
  },
  {
   "cell_type": "code",
   "execution_count": null,
   "metadata": {
    "collapsed": true
   },
   "outputs": [],
   "source": [
    "using CDDLib\n",
    "lib = CDDLib.Library()"
   ]
  },
  {
   "cell_type": "code",
   "execution_count": null,
   "metadata": {
    "collapsed": true
   },
   "outputs": [],
   "source": [
    "using QHull\n",
    "lib = QHull.Library()"
   ]
  },
  {
   "cell_type": "markdown",
   "metadata": {},
   "source": [
    "Once a polyedron has been selected, the polyhedron can be created as follows:"
   ]
  },
  {
   "cell_type": "code",
   "execution_count": 3,
   "metadata": {
    "collapsed": true
   },
   "outputs": [],
   "source": [
    "p_domain_off      = polyhedron(domain_off,      lib)\n",
    "p_domain_on       = polyhedron(domain_on,       lib)\n",
    "p_guard_off_to_on = polyhedron(guard_off_to_on, lib)\n",
    "p_guard_on_to_off = polyhedron(guard_on_to_off, lib);"
   ]
  },
  {
   "cell_type": "markdown",
   "metadata": {},
   "source": [
    "The mode contains both the guard as respectively the dynamic and the continuous state constraint set."
   ]
  },
  {
   "cell_type": "code",
   "execution_count": 4,
   "metadata": {},
   "outputs": [
    {
     "data": {
      "text/plain": [
       "ConstrainedAffineContinuousSystem{Float64,Array{Float64,2},Array{Float64,1},Interval{Float64,StaticArrays.SArray{Tuple{1},Float64,1,1},StaticArrays.Size{(1,)}}}([-0.1], [5.0], HyperPlane([1.0], 22.0) : convexhull([22.0]))"
      ]
     },
     "execution_count": 4,
     "metadata": {},
     "output_type": "execute_result"
    }
   ],
   "source": [
    "using MathematicalSystems\n",
    "A = reshape([-0.1], 1, 1) # creates 1x1 matrix, [-1.0] is a vector, not a matrix\n",
    "b_on = [5.0]\n",
    "mode_off = ConstrainedLinearContinuousSystem(A, p_domain_off)\n",
    "mode_on  = ConstrainedAffineContinuousSystem(A, b_on, p_domain_on) # TODO Affine is not yet defined on MathematicalSystems"
   ]
  },
  {
   "cell_type": "markdown",
   "metadata": {},
   "source": [
    "The reset map contains both the reset map and guard as respectively the dynamic and the discrete state constraint set.\n",
    "Here the reset map is the identity so we use a `ConstraintDiscreteIdentitySystem`."
   ]
  },
  {
   "cell_type": "code",
   "execution_count": 5,
   "metadata": {
    "collapsed": true
   },
   "outputs": [],
   "source": [
    "using MathematicalSystems\n",
    "const dimension = 1\n",
    "resetmap_off_to_on = ConstrainedDiscreteIdentitySystem(dimension, guard_off_to_on)\n",
    "resetmap_on_to_off = ConstrainedDiscreteIdentitySystem(dimension, guard_on_to_off);"
   ]
  },
  {
   "cell_type": "markdown",
   "metadata": {},
   "source": [
    "We index, say, the mode off as 1 and the mode on as 2 and\n",
    "we assign the label 1 to the off to on transition and label 2 to the on to off transition."
   ]
  },
  {
   "cell_type": "code",
   "execution_count": 6,
   "metadata": {},
   "outputs": [
    {
     "data": {
      "text/plain": [
       "2-element Array{ConstrainedDiscreteIdentitySystem{HyperPlanesIntersection{Float64,Array{Float64,1},Int64}},1}:\n",
       " ConstrainedDiscreteIdentitySystem{HyperPlanesIntersection{Float64,Array{Float64,1},Int64}}(1, HyperPlane([-1.0], -19.0))\n",
       " ConstrainedDiscreteIdentitySystem{HyperPlanesIntersection{Float64,Array{Float64,1},Int64}}(1, HyperPlane([1.0], 21.0))  "
      ]
     },
     "execution_count": 6,
     "metadata": {},
     "output_type": "execute_result"
    }
   ],
   "source": [
    "systems = [mode_off, mode_on]\n",
    "resetmaps = [resetmap_off_to_on, resetmap_on_to_off]"
   ]
  },
  {
   "cell_type": "markdown",
   "metadata": {},
   "source": [
    "The automaton can be constructed as follows:"
   ]
  },
  {
   "cell_type": "code",
   "execution_count": 7,
   "metadata": {
    "collapsed": true
   },
   "outputs": [],
   "source": [
    "using HybridSystems\n",
    "a = LightAutomaton(2)\n",
    "add_transition!(a, 1, 2, 1)  # off to on\n",
    "add_transition!(a, 2, 1, 2); # on to off"
   ]
  },
  {
   "cell_type": "markdown",
   "metadata": {},
   "source": [
    "Depending on the context, we might consider the switching as autonomous or controlled, let's consider it autonomous in this example."
   ]
  },
  {
   "cell_type": "code",
   "execution_count": 8,
   "metadata": {},
   "outputs": [
    {
     "data": {
      "text/plain": [
       "2-element Array{AutonomousSwitching,1}:\n",
       " AutonomousSwitching()\n",
       " AutonomousSwitching()"
      ]
     },
     "execution_count": 8,
     "metadata": {},
     "output_type": "execute_result"
    }
   ],
   "source": [
    "switching = AutonomousSwitching()\n",
    "switchings = fill(switching, 2)"
   ]
  },
  {
   "cell_type": "markdown",
   "metadata": {},
   "source": [
    "We can now create our hybrid automata by combining all our elements."
   ]
  },
  {
   "cell_type": "code",
   "execution_count": 8,
   "metadata": {},
   "outputs": [
    {
     "data": {
      "text/plain": [
       "Hybrid System with automaton LightAutomaton{Graphs.SimpleGraphs.SimpleDiGraph{Int64},Graphs.SimpleGraphs.SimpleEdge{Int64}}({2, 2} directed simple Int64 graph, Dict(Edge 1 => 2=>1,Edge 2 => 1=>2))"
      ]
     },
     "execution_count": 8,
     "metadata": {},
     "output_type": "execute_result"
    }
   ],
   "source": [
    "hs = HybridSystem(a, systems, resetmaps, switchings)"
   ]
  },
  {
   "cell_type": "code",
   "execution_count": null,
   "metadata": {
    "collapsed": true
   },
   "outputs": [],
   "source": []
  }
 ],
 "metadata": {
  "kernelspec": {
   "display_name": "Julia 1.0.3-pre",
   "language": "julia",
   "name": "julia-1.0"
  },
  "language_info": {
   "file_extension": ".jl",
   "mimetype": "application/julia",
   "name": "julia",
   "version": "1.0.3"
  }
 },
 "nbformat": 4,
 "nbformat_minor": 2
}
